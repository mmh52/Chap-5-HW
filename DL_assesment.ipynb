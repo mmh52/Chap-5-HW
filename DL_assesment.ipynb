{
 "cells": [
  {
   "cell_type": "code",
   "execution_count": 101,
   "id": "bf34bd60",
   "metadata": {},
   "outputs": [],
   "source": [
    "import pandas as pd\n",
    "import numpy as np\n",
    "import seaborn as sns\n",
    "import matplotlib.pyplot as plt\n",
    "from sklearn.model_selection import train_test_split\n",
    "from sklearn.preprocessing import LabelEncoder\n",
    "from sklearn.linear_model import LinearRegression\n",
    "from sklearn.linear_model import Lasso\n",
    "from sklearn.preprocessing import StandardScaler\n",
    "from sklearn.metrics import mean_squared_error\n",
    "from sklearn.metrics import r2_score"
   ]
  },
  {
   "cell_type": "code",
   "execution_count": 102,
   "id": "565bf059",
   "metadata": {},
   "outputs": [
    {
     "data": {
      "text/html": [
       "<div>\n",
       "<style scoped>\n",
       "    .dataframe tbody tr th:only-of-type {\n",
       "        vertical-align: middle;\n",
       "    }\n",
       "\n",
       "    .dataframe tbody tr th {\n",
       "        vertical-align: top;\n",
       "    }\n",
       "\n",
       "    .dataframe thead th {\n",
       "        text-align: right;\n",
       "    }\n",
       "</style>\n",
       "<table border=\"1\" class=\"dataframe\">\n",
       "  <thead>\n",
       "    <tr style=\"text-align: right;\">\n",
       "      <th></th>\n",
       "      <th>family</th>\n",
       "      <th>father</th>\n",
       "      <th>mother</th>\n",
       "      <th>sex</th>\n",
       "      <th>height</th>\n",
       "      <th>nkids</th>\n",
       "    </tr>\n",
       "  </thead>\n",
       "  <tbody>\n",
       "    <tr>\n",
       "      <th>0</th>\n",
       "      <td>1</td>\n",
       "      <td>78.5</td>\n",
       "      <td>67.0</td>\n",
       "      <td>M</td>\n",
       "      <td>73.2</td>\n",
       "      <td>4</td>\n",
       "    </tr>\n",
       "    <tr>\n",
       "      <th>1</th>\n",
       "      <td>1</td>\n",
       "      <td>78.5</td>\n",
       "      <td>67.0</td>\n",
       "      <td>F</td>\n",
       "      <td>69.2</td>\n",
       "      <td>4</td>\n",
       "    </tr>\n",
       "    <tr>\n",
       "      <th>2</th>\n",
       "      <td>1</td>\n",
       "      <td>78.5</td>\n",
       "      <td>67.0</td>\n",
       "      <td>F</td>\n",
       "      <td>69.0</td>\n",
       "      <td>4</td>\n",
       "    </tr>\n",
       "    <tr>\n",
       "      <th>3</th>\n",
       "      <td>1</td>\n",
       "      <td>78.5</td>\n",
       "      <td>67.0</td>\n",
       "      <td>F</td>\n",
       "      <td>69.0</td>\n",
       "      <td>4</td>\n",
       "    </tr>\n",
       "    <tr>\n",
       "      <th>4</th>\n",
       "      <td>2</td>\n",
       "      <td>75.5</td>\n",
       "      <td>66.5</td>\n",
       "      <td>M</td>\n",
       "      <td>73.5</td>\n",
       "      <td>4</td>\n",
       "    </tr>\n",
       "    <tr>\n",
       "      <th>...</th>\n",
       "      <td>...</td>\n",
       "      <td>...</td>\n",
       "      <td>...</td>\n",
       "      <td>...</td>\n",
       "      <td>...</td>\n",
       "      <td>...</td>\n",
       "    </tr>\n",
       "    <tr>\n",
       "      <th>893</th>\n",
       "      <td>136A</td>\n",
       "      <td>68.5</td>\n",
       "      <td>65.0</td>\n",
       "      <td>M</td>\n",
       "      <td>68.5</td>\n",
       "      <td>8</td>\n",
       "    </tr>\n",
       "    <tr>\n",
       "      <th>894</th>\n",
       "      <td>136A</td>\n",
       "      <td>68.5</td>\n",
       "      <td>65.0</td>\n",
       "      <td>M</td>\n",
       "      <td>67.7</td>\n",
       "      <td>8</td>\n",
       "    </tr>\n",
       "    <tr>\n",
       "      <th>895</th>\n",
       "      <td>136A</td>\n",
       "      <td>68.5</td>\n",
       "      <td>65.0</td>\n",
       "      <td>F</td>\n",
       "      <td>64.0</td>\n",
       "      <td>8</td>\n",
       "    </tr>\n",
       "    <tr>\n",
       "      <th>896</th>\n",
       "      <td>136A</td>\n",
       "      <td>68.5</td>\n",
       "      <td>65.0</td>\n",
       "      <td>F</td>\n",
       "      <td>63.5</td>\n",
       "      <td>8</td>\n",
       "    </tr>\n",
       "    <tr>\n",
       "      <th>897</th>\n",
       "      <td>136A</td>\n",
       "      <td>68.5</td>\n",
       "      <td>65.0</td>\n",
       "      <td>F</td>\n",
       "      <td>63.0</td>\n",
       "      <td>8</td>\n",
       "    </tr>\n",
       "  </tbody>\n",
       "</table>\n",
       "<p>898 rows × 6 columns</p>\n",
       "</div>"
      ],
      "text/plain": [
       "    family  father  mother sex  height  nkids\n",
       "0        1    78.5    67.0   M    73.2      4\n",
       "1        1    78.5    67.0   F    69.2      4\n",
       "2        1    78.5    67.0   F    69.0      4\n",
       "3        1    78.5    67.0   F    69.0      4\n",
       "4        2    75.5    66.5   M    73.5      4\n",
       "..     ...     ...     ...  ..     ...    ...\n",
       "893   136A    68.5    65.0   M    68.5      8\n",
       "894   136A    68.5    65.0   M    67.7      8\n",
       "895   136A    68.5    65.0   F    64.0      8\n",
       "896   136A    68.5    65.0   F    63.5      8\n",
       "897   136A    68.5    65.0   F    63.0      8\n",
       "\n",
       "[898 rows x 6 columns]"
      ]
     },
     "execution_count": 102,
     "metadata": {},
     "output_type": "execute_result"
    }
   ],
   "source": [
    "# import galton.csv (a \"classic\" dataset) as a pandas DataFrame.\n",
    "gt_df = pd.read_csv(\"galton.csv\")\n",
    "gt_df"
   ]
  },
  {
   "cell_type": "markdown",
   "id": "81486f45",
   "metadata": {},
   "source": [
    "1. Explore this dataset.  What types of preprocessing will you go through before modeling?\n",
    "\n",
    "\n",
    "##Check missing values, outliers, endcoing categorical values, find important features."
   ]
  },
  {
   "cell_type": "code",
   "execution_count": 103,
   "id": "f4bf06af",
   "metadata": {},
   "outputs": [
    {
     "name": "stdout",
     "output_type": "stream",
     "text": [
      "<class 'pandas.core.frame.DataFrame'>\n",
      "RangeIndex: 898 entries, 0 to 897\n",
      "Data columns (total 6 columns):\n",
      " #   Column  Non-Null Count  Dtype  \n",
      "---  ------  --------------  -----  \n",
      " 0   family  898 non-null    object \n",
      " 1   father  898 non-null    float64\n",
      " 2   mother  898 non-null    float64\n",
      " 3   sex     898 non-null    object \n",
      " 4   height  898 non-null    float64\n",
      " 5   nkids   898 non-null    int64  \n",
      "dtypes: float64(3), int64(1), object(2)\n",
      "memory usage: 42.2+ KB\n"
     ]
    }
   ],
   "source": [
    "# check missing values\n",
    "gt_df.info()"
   ]
  },
  {
   "cell_type": "code",
   "execution_count": 104,
   "id": "c6ad86d8",
   "metadata": {},
   "outputs": [
    {
     "data": {
      "text/html": [
       "<div>\n",
       "<style scoped>\n",
       "    .dataframe tbody tr th:only-of-type {\n",
       "        vertical-align: middle;\n",
       "    }\n",
       "\n",
       "    .dataframe tbody tr th {\n",
       "        vertical-align: top;\n",
       "    }\n",
       "\n",
       "    .dataframe thead th {\n",
       "        text-align: right;\n",
       "    }\n",
       "</style>\n",
       "<table border=\"1\" class=\"dataframe\">\n",
       "  <thead>\n",
       "    <tr style=\"text-align: right;\">\n",
       "      <th></th>\n",
       "      <th>father</th>\n",
       "      <th>mother</th>\n",
       "      <th>height</th>\n",
       "      <th>nkids</th>\n",
       "    </tr>\n",
       "  </thead>\n",
       "  <tbody>\n",
       "    <tr>\n",
       "      <th>count</th>\n",
       "      <td>898.000000</td>\n",
       "      <td>898.000000</td>\n",
       "      <td>898.000000</td>\n",
       "      <td>898.000000</td>\n",
       "    </tr>\n",
       "    <tr>\n",
       "      <th>mean</th>\n",
       "      <td>69.232851</td>\n",
       "      <td>64.084410</td>\n",
       "      <td>66.760690</td>\n",
       "      <td>6.135857</td>\n",
       "    </tr>\n",
       "    <tr>\n",
       "      <th>std</th>\n",
       "      <td>2.470256</td>\n",
       "      <td>2.307025</td>\n",
       "      <td>3.582918</td>\n",
       "      <td>2.685156</td>\n",
       "    </tr>\n",
       "    <tr>\n",
       "      <th>min</th>\n",
       "      <td>62.000000</td>\n",
       "      <td>58.000000</td>\n",
       "      <td>56.000000</td>\n",
       "      <td>1.000000</td>\n",
       "    </tr>\n",
       "    <tr>\n",
       "      <th>25%</th>\n",
       "      <td>68.000000</td>\n",
       "      <td>63.000000</td>\n",
       "      <td>64.000000</td>\n",
       "      <td>4.000000</td>\n",
       "    </tr>\n",
       "    <tr>\n",
       "      <th>50%</th>\n",
       "      <td>69.000000</td>\n",
       "      <td>64.000000</td>\n",
       "      <td>66.500000</td>\n",
       "      <td>6.000000</td>\n",
       "    </tr>\n",
       "    <tr>\n",
       "      <th>75%</th>\n",
       "      <td>71.000000</td>\n",
       "      <td>65.500000</td>\n",
       "      <td>69.700000</td>\n",
       "      <td>8.000000</td>\n",
       "    </tr>\n",
       "    <tr>\n",
       "      <th>max</th>\n",
       "      <td>78.500000</td>\n",
       "      <td>70.500000</td>\n",
       "      <td>79.000000</td>\n",
       "      <td>15.000000</td>\n",
       "    </tr>\n",
       "  </tbody>\n",
       "</table>\n",
       "</div>"
      ],
      "text/plain": [
       "           father      mother      height       nkids\n",
       "count  898.000000  898.000000  898.000000  898.000000\n",
       "mean    69.232851   64.084410   66.760690    6.135857\n",
       "std      2.470256    2.307025    3.582918    2.685156\n",
       "min     62.000000   58.000000   56.000000    1.000000\n",
       "25%     68.000000   63.000000   64.000000    4.000000\n",
       "50%     69.000000   64.000000   66.500000    6.000000\n",
       "75%     71.000000   65.500000   69.700000    8.000000\n",
       "max     78.500000   70.500000   79.000000   15.000000"
      ]
     },
     "execution_count": 104,
     "metadata": {},
     "output_type": "execute_result"
    }
   ],
   "source": [
    "#check any outliers\n",
    "gt_df.describe()"
   ]
  },
  {
   "cell_type": "code",
   "execution_count": 105,
   "id": "053671a1",
   "metadata": {},
   "outputs": [
    {
     "name": "stderr",
     "output_type": "stream",
     "text": [
      "C:\\Users\\mehed\\anaconda3\\Lib\\site-packages\\seaborn\\axisgrid.py:118: UserWarning: The figure layout has changed to tight\n",
      "  self._figure.tight_layout(*args, **kwargs)\n"
     ]
    },
    {
     "data": {
      "text/plain": [
       "<seaborn.axisgrid.PairGrid at 0x2a1bc6c4410>"
      ]
     },
     "execution_count": 105,
     "metadata": {},
     "output_type": "execute_result"
    },
    {
     "data": {
      "image/png": "[encoded data removed]",
      "text/plain": [
       "<Figure size 562x250 with 2 Axes>"
      ]
     },
     "metadata": {},
     "output_type": "display_data"
    }
   ],
   "source": [
    "# indentify height relation from plot\n",
    "sns.pairplot(gt_df,hue= 'sex',x_vars=['father','mother'], y_vars='height',markers=['o', 'D'])"
   ]
  },
  {
   "cell_type": "code",
   "execution_count": 106,
   "id": "49f3d07a",
   "metadata": {},
   "outputs": [
    {
     "data": {
      "text/html": [
       "<div>\n",
       "<style scoped>\n",
       "    .dataframe tbody tr th:only-of-type {\n",
       "        vertical-align: middle;\n",
       "    }\n",
       "\n",
       "    .dataframe tbody tr th {\n",
       "        vertical-align: top;\n",
       "    }\n",
       "\n",
       "    .dataframe thead th {\n",
       "        text-align: right;\n",
       "    }\n",
       "</style>\n",
       "<table border=\"1\" class=\"dataframe\">\n",
       "  <thead>\n",
       "    <tr style=\"text-align: right;\">\n",
       "      <th></th>\n",
       "      <th>family</th>\n",
       "      <th>father</th>\n",
       "      <th>mother</th>\n",
       "      <th>sex</th>\n",
       "      <th>height</th>\n",
       "      <th>nkids</th>\n",
       "    </tr>\n",
       "  </thead>\n",
       "  <tbody>\n",
       "    <tr>\n",
       "      <th>0</th>\n",
       "      <td>0</td>\n",
       "      <td>78.5</td>\n",
       "      <td>67.0</td>\n",
       "      <td>1</td>\n",
       "      <td>73.2</td>\n",
       "      <td>4</td>\n",
       "    </tr>\n",
       "    <tr>\n",
       "      <th>1</th>\n",
       "      <td>0</td>\n",
       "      <td>78.5</td>\n",
       "      <td>67.0</td>\n",
       "      <td>0</td>\n",
       "      <td>69.2</td>\n",
       "      <td>4</td>\n",
       "    </tr>\n",
       "    <tr>\n",
       "      <th>2</th>\n",
       "      <td>0</td>\n",
       "      <td>78.5</td>\n",
       "      <td>67.0</td>\n",
       "      <td>0</td>\n",
       "      <td>69.0</td>\n",
       "      <td>4</td>\n",
       "    </tr>\n",
       "    <tr>\n",
       "      <th>3</th>\n",
       "      <td>0</td>\n",
       "      <td>78.5</td>\n",
       "      <td>67.0</td>\n",
       "      <td>0</td>\n",
       "      <td>69.0</td>\n",
       "      <td>4</td>\n",
       "    </tr>\n",
       "    <tr>\n",
       "      <th>4</th>\n",
       "      <td>107</td>\n",
       "      <td>75.5</td>\n",
       "      <td>66.5</td>\n",
       "      <td>1</td>\n",
       "      <td>73.5</td>\n",
       "      <td>4</td>\n",
       "    </tr>\n",
       "    <tr>\n",
       "      <th>...</th>\n",
       "      <td>...</td>\n",
       "      <td>...</td>\n",
       "      <td>...</td>\n",
       "      <td>...</td>\n",
       "      <td>...</td>\n",
       "      <td>...</td>\n",
       "    </tr>\n",
       "    <tr>\n",
       "      <th>893</th>\n",
       "      <td>39</td>\n",
       "      <td>68.5</td>\n",
       "      <td>65.0</td>\n",
       "      <td>1</td>\n",
       "      <td>68.5</td>\n",
       "      <td>8</td>\n",
       "    </tr>\n",
       "    <tr>\n",
       "      <th>894</th>\n",
       "      <td>39</td>\n",
       "      <td>68.5</td>\n",
       "      <td>65.0</td>\n",
       "      <td>1</td>\n",
       "      <td>67.7</td>\n",
       "      <td>8</td>\n",
       "    </tr>\n",
       "    <tr>\n",
       "      <th>895</th>\n",
       "      <td>39</td>\n",
       "      <td>68.5</td>\n",
       "      <td>65.0</td>\n",
       "      <td>0</td>\n",
       "      <td>64.0</td>\n",
       "      <td>8</td>\n",
       "    </tr>\n",
       "    <tr>\n",
       "      <th>896</th>\n",
       "      <td>39</td>\n",
       "      <td>68.5</td>\n",
       "      <td>65.0</td>\n",
       "      <td>0</td>\n",
       "      <td>63.5</td>\n",
       "      <td>8</td>\n",
       "    </tr>\n",
       "    <tr>\n",
       "      <th>897</th>\n",
       "      <td>39</td>\n",
       "      <td>68.5</td>\n",
       "      <td>65.0</td>\n",
       "      <td>0</td>\n",
       "      <td>63.0</td>\n",
       "      <td>8</td>\n",
       "    </tr>\n",
       "  </tbody>\n",
       "</table>\n",
       "<p>898 rows × 6 columns</p>\n",
       "</div>"
      ],
      "text/plain": [
       "     family  father  mother  sex  height  nkids\n",
       "0         0    78.5    67.0    1    73.2      4\n",
       "1         0    78.5    67.0    0    69.2      4\n",
       "2         0    78.5    67.0    0    69.0      4\n",
       "3         0    78.5    67.0    0    69.0      4\n",
       "4       107    75.5    66.5    1    73.5      4\n",
       "..      ...     ...     ...  ...     ...    ...\n",
       "893      39    68.5    65.0    1    68.5      8\n",
       "894      39    68.5    65.0    1    67.7      8\n",
       "895      39    68.5    65.0    0    64.0      8\n",
       "896      39    68.5    65.0    0    63.5      8\n",
       "897      39    68.5    65.0    0    63.0      8\n",
       "\n",
       "[898 rows x 6 columns]"
      ]
     },
     "execution_count": 106,
     "metadata": {},
     "output_type": "execute_result"
    }
   ],
   "source": [
    "# endcoing categorical values\n",
    "le = LabelEncoder()\n",
    "gt_df['sex'] = le.fit_transform(gt_df['sex'])\n",
    "gt_df['family'] = le.fit_transform(gt_df['family'])\n",
    "gt_df"
   ]
  },
  {
   "cell_type": "code",
   "execution_count": 107,
   "id": "6a403fbf",
   "metadata": {},
   "outputs": [
    {
     "data": {
      "text/html": [
       "<div>\n",
       "<style scoped>\n",
       "    .dataframe tbody tr th:only-of-type {\n",
       "        vertical-align: middle;\n",
       "    }\n",
       "\n",
       "    .dataframe tbody tr th {\n",
       "        vertical-align: top;\n",
       "    }\n",
       "\n",
       "    .dataframe thead th {\n",
       "        text-align: right;\n",
       "    }\n",
       "</style>\n",
       "<table border=\"1\" class=\"dataframe\">\n",
       "  <thead>\n",
       "    <tr style=\"text-align: right;\">\n",
       "      <th></th>\n",
       "      <th>father</th>\n",
       "      <th>mother</th>\n",
       "      <th>sex</th>\n",
       "      <th>height</th>\n",
       "    </tr>\n",
       "  </thead>\n",
       "  <tbody>\n",
       "    <tr>\n",
       "      <th>father</th>\n",
       "      <td>1.000000</td>\n",
       "      <td>0.073665</td>\n",
       "      <td>-0.027148</td>\n",
       "      <td>0.275355</td>\n",
       "    </tr>\n",
       "    <tr>\n",
       "      <th>mother</th>\n",
       "      <td>0.073665</td>\n",
       "      <td>1.000000</td>\n",
       "      <td>-0.035617</td>\n",
       "      <td>0.201655</td>\n",
       "    </tr>\n",
       "    <tr>\n",
       "      <th>sex</th>\n",
       "      <td>-0.027148</td>\n",
       "      <td>-0.035617</td>\n",
       "      <td>1.000000</td>\n",
       "      <td>0.714258</td>\n",
       "    </tr>\n",
       "    <tr>\n",
       "      <th>height</th>\n",
       "      <td>0.275355</td>\n",
       "      <td>0.201655</td>\n",
       "      <td>0.714258</td>\n",
       "      <td>1.000000</td>\n",
       "    </tr>\n",
       "  </tbody>\n",
       "</table>\n",
       "</div>"
      ],
      "text/plain": [
       "          father    mother       sex    height\n",
       "father  1.000000  0.073665 -0.027148  0.275355\n",
       "mother  0.073665  1.000000 -0.035617  0.201655\n",
       "sex    -0.027148 -0.035617  1.000000  0.714258\n",
       "height  0.275355  0.201655  0.714258  1.000000"
      ]
     },
     "execution_count": 107,
     "metadata": {},
     "output_type": "execute_result"
    }
   ],
   "source": [
    "# find corretions\n",
    "gt_df[['father','mother','sex','height']].corr()"
   ]
  },
  {
   "cell_type": "code",
   "execution_count": 108,
   "id": "a6406ff9",
   "metadata": {},
   "outputs": [],
   "source": [
    "# split data frame to test and tain set and our target is kid's height\n",
    "\n",
    "X=gt_df[['father','mother','sex']]\n",
    "Y=gt_df[['height']]\n",
    "X_train, X_test, Y_train, Y_test = train_test_split(X, Y, test_size=0.2, random_state=105)"
   ]
  },
  {
   "cell_type": "markdown",
   "id": "d7b1f7d1",
   "metadata": {},
   "source": [
    "2. Fit a linear model to the data.  Attend to the following considerations:\n",
    "    * Interaction terms.\n",
    "    * Regularization (if any).\n",
    "    * Are the assumptions of linear regression satisfied?\n",
    "    * Assessing model fit."
   ]
  },
  {
   "cell_type": "code",
   "execution_count": 109,
   "id": "11a6a684",
   "metadata": {},
   "outputs": [
    {
     "name": "stdout",
     "output_type": "stream",
     "text": [
      "Coefficients: \n",
      " [[0.41224615 0.30859808 5.11990504]]\n",
      "MSE: 4.47\n",
      "R2: 0.67\n"
     ]
    },
    {
     "data": {
      "text/plain": [
       "<matplotlib.collections.PathCollection at 0x2a1be1e4f10>"
      ]
     },
     "execution_count": 109,
     "metadata": {},
     "output_type": "execute_result"
    },
    {
     "data": {
      "image/png": "[encoded data removed]",
      "text/plain": [
       "<Figure size 1500x500 with 1 Axes>"
      ]
     },
     "metadata": {},
     "output_type": "display_data"
    }
   ],
   "source": [
    "#Linear Regression\n",
    "\n",
    "reg = LinearRegression()\n",
    "reg.fit(X_train, Y_train)\n",
    "\n",
    "Y_pred = reg.predict(X_test)\n",
    "residuals = Y_test - Y_pred\n",
    "\n",
    "\n",
    "\n",
    "print(\"Coefficients: \\n\", reg.coef_)\n",
    "print(\"MSE: %.2f\" % mean_squared_error(Y_test, Y_pred))\n",
    "print(\"R2: %.2f\" % r2_score(Y_test, Y_pred))\n",
    "plt.figure(figsize=(15, 5))\n",
    "plt.scatter(Y_pred, residuals, alpha=0.5)"
   ]
  },
  {
   "cell_type": "markdown",
   "id": "e9553325",
   "metadata": {},
   "source": [
    "In linear regression residual are well spreaded and r^2 is 0.67 which is not so bad."
   ]
  },
  {
   "cell_type": "code",
   "execution_count": 110,
   "id": "b3a84c6d",
   "metadata": {},
   "outputs": [
    {
     "name": "stdout",
     "output_type": "stream",
     "text": [
      "Predicted height of child (father: 50, mother: 70, sex: Boy): [63.09845533]\n",
      "Predicted height of child (father: 50, mother: 70, sex: Girl): [57.97855029]\n"
     ]
    },
    {
     "name": "stderr",
     "output_type": "stream",
     "text": [
      "C:\\Users\\mehed\\anaconda3\\Lib\\site-packages\\sklearn\\base.py:464: UserWarning: X does not have valid feature names, but LinearRegression was fitted with feature names\n",
      "  warnings.warn(\n",
      "C:\\Users\\mehed\\anaconda3\\Lib\\site-packages\\sklearn\\base.py:464: UserWarning: X does not have valid feature names, but LinearRegression was fitted with feature names\n",
      "  warnings.warn(\n"
     ]
    }
   ],
   "source": [
    "# predict the height of a child whose father is 50 inches and whose mother is 70 inches tall.\n",
    "father_height = 50\n",
    "mother_height = 70\n",
    "child_sex_boy = 1\n",
    "child_sex_girl = 0\n",
    "child_height_pred_boy = reg.predict([[father_height, mother_height, child_sex_boy]])\n",
    "child_height_pred_girl = reg.predict([[father_height, mother_height, child_sex_girl]])\n",
    "print(f\"Predicted height of child (father: {father_height}, mother: {mother_height}, sex: {'Boy'}): {child_height_pred_boy[0]}\")\n",
    "print(f\"Predicted height of child (father: {father_height}, mother: {mother_height}, sex: {'Girl'}): {child_height_pred_girl[0]}\")"
   ]
  },
  {
   "cell_type": "code",
   "execution_count": 118,
   "id": "32b67ca0",
   "metadata": {},
   "outputs": [
    {
     "name": "stdout",
     "output_type": "stream",
     "text": [
      "Coefficients: \n",
      " [0.40438792 0.29741223 4.91691346]\n",
      "MSE: 4.53\n",
      "R2: 0.67\n"
     ]
    }
   ],
   "source": [
    "lso = Lasso(alpha=0.05)\n",
    "lso.fit(X_train, Y_train)\n",
    "\n",
    "Y_lso_pred = lso.predict(X_test)\n",
    "\n",
    "\n",
    "print(\"Coefficients: \\n\", lso.coef_)\n",
    "print(\"MSE: %.2f\" % mean_squared_error(Y_test, Y_lso_pred))\n",
    "print(\"R2: %.2f\" % r2_score(Y_test, Y_lso_pred))\n"
   ]
  },
  {
   "cell_type": "markdown",
   "id": "4a598476",
   "metadata": {},
   "source": [
    "There is a difference in the distribution of heights dependent on sex. Note that we have access to father heights, mother heights, son heights, and daughter heights. Discuss how you would model\n",
    "𝑃(sex=M|height=𝑥)\n",
    " \n",
    "as a function of  𝑥\n",
    " .\n",
    "Attend to the following considerations:\n",
    "\n",
    "Model selection.\n",
    "Verification of model assumptions.\n",
    "Assessing model fit."
   ]
  },
  {
   "cell_type": "code",
   "execution_count": 115,
   "id": "17dd5974",
   "metadata": {},
   "outputs": [
    {
     "name": "stdout",
     "output_type": "stream",
     "text": [
      "Accuracy: 0.9\n",
      "Confusion Matrix:\n",
      "[[80 11]\n",
      " [ 7 82]]\n"
     ]
    }
   ],
   "source": [
    "# predict the probability that a person is male if they are 70 inches tall based on your fit model.\n",
    "\n",
    "from sklearn.metrics import accuracy_score, confusion_matrix\n",
    "from sklearn.linear_model import LogisticRegression\n",
    "\n",
    "NX=gt_df[['father','mother','height']]\n",
    "NY=gt_df['sex']\n",
    "NX_train, NX_test, NY_train, NY_test = train_test_split(NX, NY, test_size=0.2, random_state=105)\n",
    "\n",
    "reg = LogisticRegression()\n",
    "reg.fit(NX_train, NY_train)\n",
    "NY_pred = reg.predict(NX_test)\n",
    "\n",
    "NY_pred = NY_pred.astype(int)\n",
    "\n",
    "accuracy = accuracy_score(NY_test, NY_pred)\n",
    "report = classification_report(NY_test, NY_pred)\n",
    "cm = confusion_matrix(NY_test, NY_pred)\n",
    "\n",
    "print(f\"Accuracy: {accuracy}\")\n",
    "print(\"Confusion Matrix:\")\n",
    "print(cm)"
   ]
  },
  {
   "cell_type": "markdown",
   "id": "ebcf9763",
   "metadata": {},
   "source": [
    "The model accuracy is good and the confusion matrix support it."
   ]
  },
  {
   "cell_type": "code",
   "execution_count": 117,
   "id": "fbf30547",
   "metadata": {},
   "outputs": [
    {
     "name": "stdout",
     "output_type": "stream",
     "text": [
      "Probability of being male if 70 inches tall: 1.00\n"
     ]
    }
   ],
   "source": [
    "height_70_inches = pd.DataFrame({'father': [0], 'mother': [0], 'height': [70]})\n",
    "probability_male = reg.predict_proba(height_70_inches)[:, 1]\n",
    "\n",
    "print(f\"Probability of being male if 70 inches tall: {probability_male[0]:.2f}\")"
   ]
  },
  {
   "cell_type": "code",
   "execution_count": 121,
   "id": "0f4dc109",
   "metadata": {},
   "outputs": [
    {
     "name": "stdout",
     "output_type": "stream",
     "text": [
      "Number of males with height 70 inches: 0\n"
     ]
    }
   ],
   "source": [
    "Male = gt_df[(gt_df['height'] == 70) & (gt_df['sex'] == '1')]\n",
    "num_male_height_70 = Male .shape[0]\n",
    "print(f\"Number of males with height 70 inches: {num_male_height_70}\")"
   ]
  },
  {
   "cell_type": "markdown",
   "id": "d16ffda8",
   "metadata": {},
   "source": [
    "so the probability is not correct "
   ]
  },
  {
   "cell_type": "code",
   "execution_count": null,
   "id": "9bf4c264",
   "metadata": {},
   "outputs": [],
   "source": []
  }
 ],
 "metadata": {
  "kernelspec": {
   "display_name": "Python 3 (ipykernel)",
   "language": "python",
   "name": "python3"
  },
  "language_info": {
   "codemirror_mode": {
    "name": "ipython",
    "version": 3
   },
   "file_extension": ".py",
   "mimetype": "text/x-python",
   "name": "python",
   "nbconvert_exporter": "python",
   "pygments_lexer": "ipython3",
   "version": "3.11.5"
  }
 },
 "nbformat": 4,
 "nbformat_minor": 5
}
