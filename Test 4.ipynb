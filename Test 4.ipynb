{
 "cells": [
  {
   "cell_type": "code",
   "execution_count": 1,
   "metadata": {},
   "outputs": [],
   "source": [
    "# Question 1: What is the fundamental idea behind Support Vector Machines?\n",
    "    \n",
    "# Ans: The fundamental idea behind the support vector machine is to get the largest possible margin between the decision\n",
    "# boundary that separates the two classes."
   ]
  },
  {
   "cell_type": "code",
   "execution_count": 2,
   "metadata": {},
   "outputs": [],
   "source": [
    "# Question No 2: What is a support vector?\n",
    "    \n",
    "# Ans: A Support Vector Machine (SVM) is a powerful and versatile Machine Learning model, capable of performing linear or \n",
    "# nonlinear classification, regression, and even outlier detection. It is one of the most popular models in Machine Learning.\n",
    "# SVMs are particularly well suited for classification of complex small- or medium-sized datasets."
   ]
  },
  {
   "cell_type": "code",
   "execution_count": 3,
   "metadata": {},
   "outputs": [],
   "source": [
    "# Question No 3: Why is it important to scale the inputs when using SVMs?\n",
    "    \n",
    "# Ans:It is important to scale the inputs when using SVMs because if the training set is not scaled, the SVM will tend to \n",
    "# neglect small features."
   ]
  },
  {
   "cell_type": "code",
   "execution_count": 4,
   "metadata": {},
   "outputs": [],
   "source": [
    "# Question No 4: Can an SVM classifier output a confidence score when it classifies an instance? What about a probability?\n",
    "    \n",
    "# Ans: Yes, an SVM classifier can output a confidednce score when it classifies an instance but the score cannot be directly\n",
    "# converted into an estimation of the class probability. If you set probability=True when creating an SVM in Scikit-Learn,\n",
    "# then after training it will calibrate the probabilities using Logistic Regression on the SVM’s scores"
   ]
  },
  {
   "cell_type": "code",
   "execution_count": 5,
   "metadata": {},
   "outputs": [],
   "source": [
    "# Question No 5: Should you use the primal or the dual form of the SVM problem to train a model on a training set with millions\n",
    "# of instances and hundreds of features?\n",
    "\n",
    "# Ans: The computational complexity of the primal form is proportional to the number of training instances m and for dual form\n",
    "# it's between m^2 and m^3. So we should use primal form of the SVM problem to train a model on a training set with millions\n",
    "# of instances and hundreds of features."
   ]
  },
  {
   "cell_type": "code",
   "execution_count": 6,
   "metadata": {},
   "outputs": [],
   "source": [
    "# Questionn 6: Say you’ve trained an SVM classifier with an RBF kernel, but it seems to underfit the training set.\n",
    "# Should you increase or decrease γ (gamma)? What about C?\n",
    "\n",
    "# Ans: If an SVM classifier with an RBF kernel underfits the training set, there may be too much regularization.\n",
    "# So we should increase gamma or C, or both to overcome this problem."
   ]
  },
  {
   "cell_type": "code",
   "execution_count": 7,
   "metadata": {},
   "outputs": [],
   "source": [
    "#  Question No 7: How should you set the QP parameters (H, f, A, and b) to solve the soft margin linear SVM classifier \n",
    "#  problem using an off-the-shelf QP solver?\n",
    "\n",
    "# Ans: QP parameter to solve soft margin linear SVM classifier has m addition parameters and contrains than hard margin problem.\n",
    "# Let QP parameter for hard margin problem is H', f' A' and b'. then\n",
    "\n",
    "# H is equal to H′, plus m columns of 0s on the right and m rows of 0s at the bottom.\n",
    "\n",
    "# f is equal to f′ with m additional elements, all equal to the value of the hyperparameter C.\n",
    "\n",
    "# A is equal to A′, with an extra m × m identity matrix I appended to the right.\n",
    "\n",
    "# b is equal to b′ with m additional elements, all equal to 0."
   ]
  },
  {
   "cell_type": "code",
   "execution_count": null,
   "metadata": {},
   "outputs": [],
   "source": []
  }
 ],
 "metadata": {
  "kernelspec": {
   "display_name": "Python 3",
   "language": "python",
   "name": "python3"
  },
  "language_info": {
   "codemirror_mode": {
    "name": "ipython",
    "version": 3
   },
   "file_extension": ".py",
   "mimetype": "text/x-python",
   "name": "python",
   "nbconvert_exporter": "python",
   "pygments_lexer": "ipython3",
   "version": "3.7.4"
  }
 },
 "nbformat": 4,
 "nbformat_minor": 2
}
